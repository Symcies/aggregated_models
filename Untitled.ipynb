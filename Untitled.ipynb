{
 "cells": [
  {
   "cell_type": "code",
   "execution_count": 65,
   "metadata": {
    "collapsed": true
   },
   "outputs": [],
   "source": [
    "import numpy as np\n",
    "import matplotlib.pyplot as plt\n",
    "%matplotlib inline"
   ]
  },
  {
   "cell_type": "markdown",
   "metadata": {},
   "source": [
    "# Construct the data"
   ]
  },
  {
   "cell_type": "code",
   "execution_count": 74,
   "metadata": {
    "collapsed": true
   },
   "outputs": [],
   "source": [
    "# In the paper, n belongs to 256, 512, 1024, 2043\n",
    "n = 512 \n",
    "X = np.random.uniform(low = 0, high = 20, size = n)\n",
    "ksi = np.random.normal(loc = 0., scale = 0.08, size = n)"
   ]
  },
  {
   "cell_type": "code",
   "execution_count": 75,
   "metadata": {
    "collapsed": true
   },
   "outputs": [],
   "source": [
    "def signal(x, name = None):\n",
    "    Y = np.sin(x)\n",
    "    return Y\n"
   ]
  },
  {
   "cell_type": "code",
   "execution_count": 76,
   "metadata": {
    "collapsed": false
   },
   "outputs": [],
   "source": [
    "Y = signal(X) + ksi\n",
    "idx = np.argsort(X)\n",
    "X = X[idx]\n",
    "Y = Y[idx]"
   ]
  },
  {
   "cell_type": "code",
   "execution_count": 78,
   "metadata": {
    "collapsed": false
   },
   "outputs": [
    {
     "data": {
      "image/png": "[encoded data removed]",
      "text/plain": [
       "<matplotlib.figure.Figure at 0x7eaeb38>"
      ]
     },
     "metadata": {},
     "output_type": "display_data"
    }
   ],
   "source": [
    "\n",
    "plt.plot(X,Y)\n",
    "plt.show()"
   ]
  },
  {
   "cell_type": "markdown",
   "metadata": {},
   "source": [
    "# Construct the estimator family"
   ]
  },
  {
   "cell_type": "code",
   "execution_count": 79,
   "metadata": {
    "collapsed": true
   },
   "outputs": [],
   "source": [
    "def indic(a,b):\n",
    "    if a<=b:\n",
    "        return 1\n",
    "    return 0"
   ]
  },
  {
   "cell_type": "code",
   "execution_count": 89,
   "metadata": {
    "collapsed": true
   },
   "outputs": [],
   "source": [
    "def ordered_projection(M, Y):\n",
    "    family_estimators = []\n",
    "    n = len(Y)\n",
    "    L = range(1,n)\n",
    "    for i in range(M):\n",
    "        l = L[np.random.randint(len(L))]\n",
    "        A = np.diag([indic(i, l) for i in range(n) ])\n",
    "        f_hat = A.dot(Y.T).T\n",
    "        family_estimators.append(f_hat)\n",
    "\n",
    "    return family_estimators"
   ]
  },
  {
   "cell_type": "code",
   "execution_count": 90,
   "metadata": {
    "collapsed": true
   },
   "outputs": [],
   "source": [
    "def block_projection(M, Y):\n",
    "    family_estimators = []\n",
    "    n = len(Y)\n",
    "    "
   ]
  },
  {
   "cell_type": "code",
   "execution_count": 94,
   "metadata": {
    "collapsed": true
   },
   "outputs": [],
   "source": [
    "def thikonov_philipps_filter(M, Y):\n",
    "    family_estimators = []\n",
    "    n = len(Y)\n",
    "    for i in range(M):\n",
    "        w = np.random.rand(1)\n",
    "        alpha = np.random.rand(1)\n",
    "        a = [1./(1+(i/w)**alpha) for i in range(n)]\n",
    "        A = np.diag(a)\n",
    "        f_hat = A.dot(Y.T).T\n",
    "        family_estimators.append(f_hat)\n",
    "    return family_estimators"
   ]
  },
  {
   "cell_type": "code",
   "execution_count": null,
   "metadata": {
    "collapsed": true
   },
   "outputs": [],
   "source": []
  },
  {
   "cell_type": "code",
   "execution_count": 95,
   "metadata": {
    "collapsed": false
   },
   "outputs": [],
   "source": [
    "def estimator(M, Y, family = 'ordered proj'):\n",
    "    '''\n",
    "    This function returns M estimators which belongs to a family of estimators\n",
    "    Accepted families = \"ordered proj\", \"block proj\", \"tikhonov-philipps filter\", \"pinkser filter\"\n",
    "    '''\n",
    "    \n",
    "    if family == 'ordered proj':\n",
    "        estimators = ordered_projection(M, Y)\n",
    "    elif family == 'block proj':\n",
    "        estimators \n",
    "    elif family == 'thikonov filter':\n",
    "        estimators = thikonov_philipps_filter(M, Y)\n",
    "    elif family == 'pinkser filter':\n",
    "        1\n",
    "    else:\n",
    "        print 'The family should belong to \"ordered proj\", \"block proj\", \"tikhonov-philipps filter\", \"pinkser filter\"'\n",
    "        return 0\n",
    "    \n",
    "    return estimators"
   ]
  },
  {
   "cell_type": "code",
   "execution_count": 92,
   "metadata": {
    "collapsed": false
   },
   "outputs": [],
   "source": [
    "M = 100\n",
    "estimators = estimator(M, Y, family = 'ordered proj')"
   ]
  },
  {
   "cell_type": "code",
   "execution_count": null,
   "metadata": {
    "collapsed": false
   },
   "outputs": [],
   "source": []
  },
  {
   "cell_type": "code",
   "execution_count": null,
   "metadata": {
    "collapsed": true
   },
   "outputs": [],
   "source": []
  }
 ],
 "metadata": {
  "kernelspec": {
   "display_name": "Python 2",
   "language": "python",
   "name": "python2"
  },
  "language_info": {
   "codemirror_mode": {
    "name": "ipython",
    "version": 2
   },
   "file_extension": ".py",
   "mimetype": "text/x-python",
   "name": "python",
   "nbconvert_exporter": "python",
   "pygments_lexer": "ipython2",
   "version": "2.7.11"
  }
 },
 "nbformat": 4,
 "nbformat_minor": 0
}
