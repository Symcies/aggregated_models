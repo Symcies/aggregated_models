{
 "cells": [
  {
   "cell_type": "code",
   "execution_count": 2,
   "metadata": {
    "collapsed": true
   },
   "outputs": [],
   "source": [
    "import numpy as np\n",
    "import matplotlib.pyplot as plt\n",
    "%matplotlib inline"
   ]
  },
  {
   "cell_type": "markdown",
   "metadata": {},
   "source": [
    "# Construct the data"
   ]
  },
  {
   "cell_type": "code",
   "execution_count": 20,
   "metadata": {
    "collapsed": true
   },
   "outputs": [],
   "source": [
    "# In the paper, n belongs to 256, 512, 1024, 2043\n",
    "n = 512 \n",
    "X = np.random.uniform(low = 0, high = 20, size = n)\n",
    "ksi = np.random.normal(loc = 0., scale = 0.3, size = n)"
   ]
  },
  {
   "cell_type": "code",
   "execution_count": 49,
   "metadata": {
    "collapsed": true
   },
   "outputs": [],
   "source": [
    "def signal(x, name = None):\n",
    "    Y = np.cos(x)\n",
    "    return Y\n"
   ]
  },
  {
   "cell_type": "code",
   "execution_count": 50,
   "metadata": {
    "collapsed": false
   },
   "outputs": [],
   "source": [
    "Y = signal(X) + ksi\n",
    "idx = np.argsort(X)\n",
    "X = X[idx]\n",
    "Y = Y[idx]"
   ]
  },
  {
   "cell_type": "code",
   "execution_count": 51,
   "metadata": {
    "collapsed": false
   },
   "outputs": [
    {
     "data": {
      "text/plain": [
       "(512L,)"
      ]
     },
     "execution_count": 51,
     "metadata": {},
     "output_type": "execute_result"
    }
   ],
   "source": [
    "X.shape"
   ]
  },
  {
   "cell_type": "code",
   "execution_count": 52,
   "metadata": {
    "collapsed": false,
    "scrolled": true
   },
   "outputs": [
    {
     "data": {
      "image/png": "[encoded data removed]",
      "text/plain": [
       "<matplotlib.figure.Figure at 0xb191e80>"
      ]
     },
     "metadata": {},
     "output_type": "display_data"
    }
   ],
   "source": [
    "\n",
    "plt.plot(X,Y)\n",
    "plt.show()"
   ]
  },
  {
   "cell_type": "markdown",
   "metadata": {},
   "source": [
    "# Decomposition en Transformée de Sinus"
   ]
  },
  {
   "cell_type": "code",
   "execution_count": 26,
   "metadata": {
    "collapsed": true
   },
   "outputs": [],
   "source": [
    "from numpy import pi"
   ]
  },
  {
   "cell_type": "code",
   "execution_count": 53,
   "metadata": {
    "collapsed": false
   },
   "outputs": [],
   "source": [
    "## define discrete sine basis\n",
    "n = X.shape[0]\n",
    "S = []\n",
    "for k in range(n):\n",
    "    phi = [np.sin((2 * pi * k * i) / n) for i in range(n)]\n",
    "    phi = np.array(phi)\n",
    "    S.append(phi.dot(Y))"
   ]
  },
  {
   "cell_type": "code",
   "execution_count": 54,
   "metadata": {
    "collapsed": false
   },
   "outputs": [],
   "source": [
    "y = []\n",
    "for k in range(n):\n",
    "    s = [np.sin((2 * pi * k * i) / n) for i in range(n)]\n",
    "    s = np.array(s) / n\n",
    "    y.append(np.array(S).dot(s))"
   ]
  },
  {
   "cell_type": "code",
   "execution_count": 55,
   "metadata": {
    "collapsed": false
   },
   "outputs": [
    {
     "data": {
      "text/plain": [
       "[<matplotlib.lines.Line2D at 0xb4bcac8>]"
      ]
     },
     "execution_count": 55,
     "metadata": {},
     "output_type": "execute_result"
    },
    {
     "data": {
      "image/png": "[encoded data removed]",
      "text/plain": [
       "<matplotlib.figure.Figure at 0xb3b44a8>"
      ]
     },
     "metadata": {},
     "output_type": "display_data"
    }
   ],
   "source": [
    "\n",
    "plt.plot(X,y)"
   ]
  },
  {
   "cell_type": "markdown",
   "metadata": {},
   "source": [
    "# Construct the estimator family"
   ]
  },
  {
   "cell_type": "code",
   "execution_count": 7,
   "metadata": {
    "collapsed": true
   },
   "outputs": [],
   "source": [
    "def indic(a,b):\n",
    "    if a<=b:\n",
    "        return 1\n",
    "    return 0"
   ]
  },
  {
   "cell_type": "code",
   "execution_count": 8,
   "metadata": {
    "collapsed": true
   },
   "outputs": [],
   "source": [
    "def ordered_projection(M, Y):\n",
    "    family_estimators = []\n",
    "    A_lambda = []\n",
    "    n = len(Y)\n",
    "    L = range(1,n)\n",
    "    for i in range(M):\n",
    "        l = L[np.random.randint(len(L))]\n",
    "        #print np.shape([indic(i, l) for i in range(n) ])\n",
    "        A = np.diag([indic(i, l) for i in range(n) ])\n",
    "        A_lambda.append(A)\n",
    "        f_hat = A.dot(Y.T).T\n",
    "        family_estimators.append(f_hat)\n",
    "\n",
    "    return family_estimators, A_lambda"
   ]
  },
  {
   "cell_type": "code",
   "execution_count": 9,
   "metadata": {
    "collapsed": true
   },
   "outputs": [],
   "source": [
    "def block_projection(M, Y):\n",
    "    family_estimators = []\n",
    "    n = len(Y)\n",
    "    for i in range(M):\n",
    "        1\n",
    "    print 'block projection not done yet'\n",
    "    return 0, 0"
   ]
  },
  {
   "cell_type": "code",
   "execution_count": 10,
   "metadata": {
    "collapsed": true
   },
   "outputs": [],
   "source": [
    "def thikonov_philipps_filter(M, Y):\n",
    "    family_estimators = []\n",
    "    A_lambda = []\n",
    "    n = len(Y)\n",
    "    for i in range(M):\n",
    "        w = np.random.rand(1)[0]\n",
    "        alpha = np.random.rand(1)[0]\n",
    "        a = [1./(1+(i/w)**alpha) for i in range(n)]\n",
    "        A = np.diag(a)\n",
    "        A_lambda.append(A)\n",
    "        f_hat = A.dot(Y.T).T\n",
    "        family_estimators.append(f_hat)\n",
    "    return family_estimators, A_lambda"
   ]
  },
  {
   "cell_type": "code",
   "execution_count": 11,
   "metadata": {
    "collapsed": true
   },
   "outputs": [],
   "source": [
    "def pinkser_filter(M, Y):\n",
    "    family_estimators = []\n",
    "    A_lambda = []\n",
    "    n = len(Y)\n",
    "    for i in range(M):\n",
    "        w = np.random.rand(1)[0]\n",
    "        alpha = np.random.rand(1)[0]\n",
    "        a = [np.max([0, (1-i**alpha/w)]) for i in range(n)]\n",
    "        A = np.diag(a)\n",
    "        A_lambda.append(A)\n",
    "        f_hat = A.dot(Y.T).T\n",
    "        family_estimators.append(f_hat)\n",
    "    return family_estimators, A_lambda"
   ]
  },
  {
   "cell_type": "code",
   "execution_count": 12,
   "metadata": {
    "collapsed": false
   },
   "outputs": [],
   "source": [
    "def estimator(M, Y, family = 'ordered proj'):\n",
    "    '''\n",
    "    This function returns M estimators which belongs to a family of estimators\n",
    "    Accepted families = \"ordered proj\", \"block proj\", \"tikhonov-philipps filter\", \"pinkser filter\"\n",
    "    '''\n",
    "    \n",
    "    if family == 'ordered proj':\n",
    "        estimators, A_lambdas = ordered_projection(M, Y)\n",
    "    elif family == 'block proj':\n",
    "        estimators, A_lambdas = block_projection(M, Y) \n",
    "    elif family == 'thikonov filter':\n",
    "        estimators, A_lambdas = thikonov_philipps_filter(M, Y)\n",
    "    elif family == 'pinkser filter':\n",
    "        estimators, A_lambdas = pinkser_filter(M, Y)\n",
    "    else:\n",
    "        print 'The family should belong to \"ordered proj\", \"block proj\", \"tikhonov-philipps filter\", \"pinkser filter\"'\n",
    "        return 0\n",
    "    \n",
    "    return estimators, A_lambdas"
   ]
  },
  {
   "cell_type": "code",
   "execution_count": 13,
   "metadata": {
    "collapsed": false
   },
   "outputs": [],
   "source": [
    "M = 100\n",
    "estimators, A_lambdas = estimator(M, Y, family = 'ordered proj')"
   ]
  },
  {
   "cell_type": "code",
   "execution_count": 14,
   "metadata": {
    "collapsed": false
   },
   "outputs": [
    {
     "name": "stdout",
     "output_type": "stream",
     "text": [
      "(100L, 512L) (100L, 512L, 512L)\n"
     ]
    }
   ],
   "source": [
    "print np.shape(estimators), np.shape(A_lambdas)"
   ]
  },
  {
   "cell_type": "markdown",
   "metadata": {
    "collapsed": true
   },
   "source": [
    "# Exponential Weight Aggregation"
   ]
  },
  {
   "cell_type": "code",
   "execution_count": null,
   "metadata": {
    "collapsed": true
   },
   "outputs": [],
   "source": [
    "def exp_loss(y, f_x, eta):\n",
    "    return np.exp(-eta*)\n",
    "    "
   ]
  },
  {
   "cell_type": "code",
   "execution_count": 38,
   "metadata": {
    "collapsed": true
   },
   "outputs": [],
   "source": []
  },
  {
   "cell_type": "code",
   "execution_count": 25,
   "metadata": {
    "collapsed": false
   },
   "outputs": [
    {
     "name": "stdout",
     "output_type": "stream",
     "text": [
      "23.3380629065\n"
     ]
    }
   ],
   "source": [
    "### Initialisation ###\n",
    "N = n\n",
    "M = M\n",
    "eta = 0.1\n",
    "prior_distrib = [1./M for i in range(M)]\n",
    "\n",
    "### E.W.A ###\n",
    "\n",
    "first_term = [1./n*np.sum([(y - f[i])**2 for i, y in enumerate(Y)]) for f in estimators]\n",
    "SIGMA = NOISE_COVARIANCE_MATRIX\n",
    "last_term = 1./n*np.sum([sigma**2 for sigma in NOISE])\n",
    "\n",
    "\n",
    "r_hat = [ first_term[i] + 2./n*np.trace(SIMGA.dot(A_lambdas[idx])) - last_term for idx, f in enumerate(estimators)]\n",
    "\n"
   ]
  },
  {
   "cell_type": "code",
   "execution_count": null,
   "metadata": {
    "collapsed": true
   },
   "outputs": [],
   "source": [
    "beta = 0.1\n",
    "norm = np.sum([np.exp(-n*r/beta)*prior_distribution[i] for i, r in enumerate(r_hat)])\n",
    "posterior_distribution = [np.exp(-n*r/beta)/norm for r in r_hat]"
   ]
  },
  {
   "cell_type": "code",
   "execution_count": null,
   "metadata": {
    "collapsed": true
   },
   "outputs": [],
   "source": [
    "f_EWA = np.sum([f*posterior_distribution[i] for f in estimators])"
   ]
  }
 ],
 "metadata": {
  "kernelspec": {
   "display_name": "Python 2",
   "language": "python",
   "name": "python2"
  },
  "language_info": {
   "codemirror_mode": {
    "name": "ipython",
    "version": 2
   },
   "file_extension": ".py",
   "mimetype": "text/x-python",
   "name": "python",
   "nbconvert_exporter": "python",
   "pygments_lexer": "ipython2",
   "version": "2.7.11"
  }
 },
 "nbformat": 4,
 "nbformat_minor": 0
}
